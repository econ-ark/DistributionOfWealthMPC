{
 "cells": [
  {
   "cell_type": "markdown",
   "metadata": {},
   "source": [
    "### TO DO:\n",
    "\n",
    "1. create a program which produces up to the fourth moment for both the uniform and lognormal distribution **after** the relevant moment have been estimated using estimation()\n",
    "2. specify a truncated lognormal distribution for the rate of return such that the maximal return that can be earned by a given household is defined by the GIC\n",
    "    * If the life-cycle version of the model is ran, the GIC condition will include the survival probability; this should change the truncation of the distribution\n",
    "3. rerun the PY and LC specifications of the model and compare the estimation results to: \n",
    "    * the uniform estimation of R-point and R-dist and \n",
    "    * the empirical evidence of the distribution of returns\n"
   ]
  },
  {
   "cell_type": "markdown",
   "metadata": {},
   "source": [
    "## Goals of this Notebook\n",
    "\n",
    "* Run the simplest specification of the estimation for Rfree\n",
    "* Compare the results to CSTW... how \"close\" are the Lorenz sim points to the empirical counterpart?\n",
    "* Compare the estimated distribution of Rfree to the \"empirical counterpart\" regarding heterogeneous returns, from the four empirical papers listed above"
   ]
  },
  {
   "cell_type": "code",
   "execution_count": 2,
   "metadata": {
    "code_folding": [],
    "execution": {
     "iopub.execute_input": "2023-04-06T15:42:34.138231Z",
     "iopub.status.busy": "2023-04-06T15:42:34.138231Z",
     "iopub.status.idle": "2023-04-06T15:42:35.764534Z",
     "shell.execute_reply": "2023-04-06T15:42:35.764534Z"
    }
   },
   "outputs": [],
   "source": [
    "# This cell does some standard python setup!\n",
    "\n",
    "import code.calibration as parameters\n",
    "import warnings  # The warnings package allows us to ignore some harmless but alarming warning messages\n",
    "from code.calibration import SCF_wealth, SCF_weights\n",
    "from code.estimation import estimate\n",
    "\n",
    "# Import related generic python packages\n",
    "import matplotlib.pyplot as plt  # Plotting tools\n",
    "import numpy as np\n",
    "from HARK.utilities import get_lorenz_shares\n",
    "\n",
    "warnings.filterwarnings(\"ignore\")\n",
    "\n",
    "\n",
    "def mystr(number):\n",
    "    return f\"{number:.4f}\""
   ]
  },
  {
   "cell_type": "markdown",
   "metadata": {},
   "source": [
    "## Comparing the Estimation to Data on the Rate of Return"
   ]
  },
  {
   "cell_type": "code",
   "execution_count": 3,
   "metadata": {},
   "outputs": [
    {
     "name": "stdout",
     "output_type": "stream",
     "text": [
      "[1.02076914 1.02457412 1.02837909 1.03218407 1.03598905 1.03979403\n",
      " 1.04359901]\n"
     ]
    },
    {
     "data": {
      "image/png": "[encoded data removed]",
      "text/plain": [
       "<Figure size 640x480 with 1 Axes>"
      ]
     },
     "metadata": {},
     "output_type": "display_data"
    }
   ],
   "source": [
    "from HARK.distribution import Uniform\n",
    "\n",
    "num_types = 7  # number of types we want\n",
    "Rfree_mean = 1.0321840725453453  # center of Rfree distribution\n",
    "Rfree_spread = 0.013317421431722095  # spread of Rfree distribution\n",
    "\n",
    "est_Rfree_dstn = (\n",
    "    Uniform(Rfree_mean - Rfree_spread, Rfree_mean + Rfree_spread)\n",
    "    .discretize(num_types)\n",
    "    .atoms.flatten()\n",
    ")\n",
    "\n",
    "print(est_Rfree_dstn)\n",
    "ax = plt.gca()\n",
    "ax.set_ylim([0, 2])\n",
    "plt.hist(est_Rfree_dstn,bins=num_types)\n",
    "plt.show()"
   ]
  },
  {
   "cell_type": "code",
   "execution_count": 4,
   "metadata": {},
   "outputs": [
    {
     "name": "stdout",
     "output_type": "stream",
     "text": [
      "[0.99694785 1.00008263 1.00321742 1.0063522  1.00948699 1.01262177\n",
      " 1.01575655]\n"
     ]
    },
    {
     "data": {
      "image/png": "[encoded data removed]",
      "text/plain": [
       "<Figure size 640x480 with 1 Axes>"
      ]
     },
     "metadata": {},
     "output_type": "display_data"
    }
   ],
   "source": [
    "Rfree_LC_mean = 1.0063522012578616  # center of Rfree distribution\n",
    "Rfree_LC_spread = 0.01097174439675312  # spread of Rfree distribution\n",
    "\n",
    "est_Rfree_LC_dstn = (\n",
    "    Uniform(Rfree_LC_mean - Rfree_LC_spread, Rfree_LC_mean + Rfree_LC_spread)\n",
    "    .discretize(num_types)\n",
    "    .atoms.flatten()\n",
    ")\n",
    "\n",
    "print(est_Rfree_LC_dstn)\n",
    "ax = plt.gca()\n",
    "ax.set_ylim([0, 2])\n",
    "plt.hist(est_Rfree_LC_dstn,bins=num_types)\n",
    "plt.show()"
   ]
  },
  {
   "cell_type": "markdown",
   "metadata": {},
   "source": [
    "### Graph of the empirical distribution of safe and risky returns from Fagereng et al. (2015)\n",
    "\n",
    "![Image Description](/Users/dc/Library/CloudStorage/OneDrive-JohnsHopkins/research/GitHub-forks/econ-ark/DistributionOfWealthMPC/DistEmpReturnsFagereng.png)\n",
    "\n"
   ]
  },
  {
   "cell_type": "markdown",
   "metadata": {},
   "source": [
    "### Less restrictive assumptions for the estimated distribution of returns"
   ]
  },
  {
   "cell_type": "markdown",
   "metadata": {},
   "source": [
    "# Estimation under Lognormal distribution of the rate of return\n",
    "\n",
    "## Perpetual Youth - $\\Rfree$-point model"
   ]
  },
  {
   "cell_type": "code",
   "execution_count": null,
   "metadata": {
    "execution": {
     "iopub.execute_input": "2023-04-06T15:42:35.767537Z",
     "iopub.status.busy": "2023-04-06T15:42:35.767537Z",
     "iopub.status.idle": "2023-04-06T15:42:35.780539Z",
     "shell.execute_reply": "2023-04-06T15:42:35.780539Z"
    },
    "lines_to_next_cell": 2
   },
   "outputs": [],
   "source": [
    "\"\"\"\n",
    "This will run the absolute minimum amount of work that actually produces\n",
    "relevant output-- no aggregate shocks, perpetual youth, matching net worth.\n",
    "Will run both beta-point and beta-dist versions.\n",
    "\"\"\"\n",
    "\n",
    "\"\"\"\n",
    "Copied here from do_min.py.\n",
    "Design decisions about whether to include this code explicitly,\n",
    "or import it, or execute it as is here, TBD.\n",
    "\"\"\""
   ]
  },
  {
   "cell_type": "code",
   "execution_count": null,
   "metadata": {
    "execution": {
     "iopub.execute_input": "2023-04-06T15:42:35.782541Z",
     "iopub.status.busy": "2023-04-06T15:42:35.782541Z",
     "iopub.status.idle": "2023-04-06T15:42:35.796047Z",
     "shell.execute_reply": "2023-04-06T15:42:35.796047Z"
    },
    "lines_to_next_cell": 2
   },
   "outputs": [],
   "source": [
    "# For speed here, use the \"tractable\" version of the model\n",
    "# This is not the \"right\" model, but illustrates the key point\n",
    "\"\"\"\n",
    "This options file specifies parameter heterogeneity, making the choice in the paper:\n",
    "uniformly distributed discount factors.\n",
    "\"\"\"\n",
    "param_name = \"Rfree\"  # Which parameter to introduce heterogeneity in\n",
    "dist_type = \"uniform\"  # Which type of distribution to use\n",
    "\n",
    "\"\"\"\n",
    "This options file specifies the \"standard\" work options for cstwMPC, estimating the model only.\n",
    "\"\"\"\n",
    "run_estimation = True  # Runs the estimation if True\n",
    "# Choose which sensitivity analyses to run: rho, xi_sigma, psi_sigma, mu, urate, mortality, g, R\n",
    "run_sensitivity = [False, False, False, False, False, False, False, False]\n",
    "# Computes K/Y ratio for a wide range of beta; should have do_beta_dist = False\n",
    "find_beta_vs_KY = False\n",
    "# Uses a \"tractable consumer\" rather than solving full model when True\n",
    "do_tractable = True\n",
    "\n",
    "# Solve for the $\\beta-Point$ (do_param_dist=False) for speed\n",
    "\"\"\"\n",
    "This options file establishes the second simplest model specification possible:\n",
    "with heterogeneity, no aggregate shocks, perpetual youth model, matching net worth.\n",
    "\"\"\"\n",
    "\n",
    "do_param_dist = False  # Do param-dist version if True, param-point if False\n",
    "do_lifecycle = False  # Use lifecycle model if True, perpetual youth if False\n",
    "do_agg_shocks = False  # Solve the FBS aggregate shocks version of the model\n",
    "# Matches liquid assets data when True, net worth data when False\n",
    "do_liquid = False"
   ]
  },
  {
   "cell_type": "code",
   "execution_count": null,
   "metadata": {
    "execution": {
     "iopub.execute_input": "2023-04-06T15:42:35.798050Z",
     "iopub.status.busy": "2023-04-06T15:42:35.798050Z",
     "iopub.status.idle": "2023-04-06T15:43:51.962677Z",
     "shell.execute_reply": "2023-04-06T15:43:51.962677Z"
    },
    "lines_to_next_cell": 2
   },
   "outputs": [],
   "source": [
    "options = {\n",
    "    \"param_name\": param_name,\n",
    "    \"dist_type\": dist_type,\n",
    "    \"run_estimation\": run_estimation,\n",
    "    \"run_sensitivity\": run_sensitivity,\n",
    "    \"find_beta_vs_KY\": find_beta_vs_KY,\n",
    "    \"do_tractable\": do_tractable,\n",
    "    \"do_param_dist\": do_param_dist,\n",
    "    \"do_lifecycle\": do_lifecycle,\n",
    "    \"do_agg_shocks\": do_agg_shocks,\n",
    "    \"do_liquid\": do_liquid,\n",
    "}\n",
    "\n",
    "\n",
    "EstimationEconomy = estimate(options, parameters)"
   ]
  },
  {
   "cell_type": "code",
   "execution_count": null,
   "metadata": {
    "execution": {
     "iopub.execute_input": "2023-04-06T15:43:51.964678Z",
     "iopub.status.busy": "2023-04-06T15:43:51.964678Z",
     "iopub.status.idle": "2023-04-06T15:43:52.105210Z",
     "shell.execute_reply": "2023-04-06T15:43:52.105210Z"
    },
    "lines_to_next_cell": 2
   },
   "outputs": [],
   "source": [
    "# Construct the Lorenz curves and plot them\n",
    "\n",
    "pctiles = np.linspace(0.001, 0.999, 15)\n",
    "SCF_Lorenz_points = get_lorenz_shares(\n",
    "    SCF_wealth, weights=SCF_weights, percentiles=pctiles\n",
    ")\n",
    "\n",
    "sim_wealth = EstimationEconomy.reap_state[\"aLvl\"][0]\n",
    "sim_Lorenz_points = get_lorenz_shares(sim_wealth, percentiles=pctiles)\n",
    "\n",
    "print(sim_wealth)\n",
    "print(EstimationEconomy.reap_state[\"aLvl\"])\n",
    "\n",
    "# Plot\n",
    "plt.figure(figsize=(5, 5))\n",
    "plt.title(\"Wealth Distribution\")\n",
    "plt.plot(pctiles, SCF_Lorenz_points, \"--k\", label=\"SCF\")\n",
    "plt.plot(pctiles, sim_Lorenz_points, \"-b\", label=\"R-Point\")\n",
    "plt.plot(pctiles, pctiles, \"g-.\", label=\"45 Degree\")\n",
    "plt.xlabel(\"Percentile of net worth\")\n",
    "plt.ylabel(\"Cumulative share of wealth\")\n",
    "plt.legend(loc=2)\n",
    "plt.ylim([0, 1])\n",
    "plt.show(\"wealth_distribution_1\")"
   ]
  },
  {
   "cell_type": "markdown",
   "metadata": {},
   "source": [
    "## Perpetual Youth - $\\Rfree$-dist model"
   ]
  },
  {
   "cell_type": "code",
   "execution_count": null,
   "metadata": {
    "execution": {
     "iopub.execute_input": "2023-04-06T15:43:52.107724Z",
     "iopub.status.busy": "2023-04-06T15:43:52.106716Z",
     "iopub.status.idle": "2023-04-06T15:43:52.120722Z",
     "shell.execute_reply": "2023-04-06T15:43:52.120722Z"
    },
    "lines_to_next_cell": 2,
    "scrolled": true
   },
   "outputs": [],
   "source": [
    "\"\"\"\n",
    "This options file establishes the second simplest model specification possible:\n",
    "with heterogeneity, no aggregate shocks, perpetual youth model, matching net worth.\n",
    "\"\"\"\n",
    "do_param_dist = True  # Do param-dist version if True, param-point if False\n",
    "do_lifecycle = False  # Use lifecycle model if True, perpetual youth if False\n",
    "do_agg_shocks = False  # Solve the FBS aggregate shocks version of the model\n",
    "do_liquid = False  # Matches liquid assets data when True, net worth data when False\n",
    "do_tractable = False  #"
   ]
  },
  {
   "cell_type": "code",
   "execution_count": null,
   "metadata": {
    "execution": {
     "iopub.execute_input": "2023-04-06T15:43:52.122725Z",
     "iopub.status.busy": "2023-04-06T15:43:52.121725Z",
     "iopub.status.idle": "2023-04-06T15:54:09.603796Z",
     "shell.execute_reply": "2023-04-06T15:54:09.603796Z"
    }
   },
   "outputs": [],
   "source": [
    "options = {\n",
    "    \"param_name\": param_name,\n",
    "    \"dist_type\": dist_type,\n",
    "    \"run_estimation\": run_estimation,\n",
    "    \"run_sensitivity\": run_sensitivity,\n",
    "    \"find_beta_vs_KY\": find_beta_vs_KY,\n",
    "    \"do_tractable\": do_tractable,\n",
    "    \"do_param_dist\": do_param_dist,\n",
    "    \"do_lifecycle\": do_lifecycle,\n",
    "    \"do_agg_shocks\": do_agg_shocks,\n",
    "    \"do_liquid\": do_liquid,\n",
    "    \"do_combo_estimation\": True,\n",
    "}\n",
    "\n",
    "\n",
    "EstimationEconomy = estimate(options, parameters)"
   ]
  },
  {
   "cell_type": "code",
   "execution_count": null,
   "metadata": {
    "execution": {
     "iopub.execute_input": "2023-04-06T15:54:09.605795Z",
     "iopub.status.busy": "2023-04-06T15:54:09.605795Z",
     "iopub.status.idle": "2023-04-06T15:54:09.618795Z",
     "shell.execute_reply": "2023-04-06T15:54:09.618795Z"
    }
   },
   "outputs": [],
   "source": [
    "# Construct the Lorenz curves and plot them\n",
    "\n",
    "pctiles = np.linspace(0.001, 0.999, 15)\n",
    "SCF_Lorenz_points = get_lorenz_shares(\n",
    "    SCF_wealth, weights=SCF_weights, percentiles=pctiles\n",
    ")\n",
    "\n",
    "sim_wealth = np.asarray(EstimationEconomy.reap_state[\"aLvl\"]).flatten()\n",
    "sim_wealth_2 = np.concatenate(EstimationEconomy.reap_state[\"aLvl\"])\n",
    "sim_Lorenz_points_2 = get_lorenz_shares(sim_wealth_2, percentiles=pctiles)\n",
    "print(sim_wealth)\n",
    "print(EstimationEconomy.reap_state[\"aLvl\"])\n",
    "print(np.concatenate(EstimationEconomy.reap_state[\"aLvl\"]))\n",
    "\n"
   ]
  },
  {
   "cell_type": "code",
   "execution_count": null,
   "metadata": {
    "execution": {
     "iopub.execute_input": "2023-04-06T15:54:09.620796Z",
     "iopub.status.busy": "2023-04-06T15:54:09.620796Z",
     "iopub.status.idle": "2023-04-06T15:54:09.739822Z",
     "shell.execute_reply": "2023-04-06T15:54:09.739822Z"
    }
   },
   "outputs": [],
   "source": [
    "# Plot\n",
    "plt.figure(figsize=(5, 5))\n",
    "plt.title(\"Wealth Distribution\")\n",
    "plt.plot(pctiles, SCF_Lorenz_points, \"--k\", label=\"SCF\")\n",
    "plt.plot(pctiles, sim_Lorenz_points_2, \"-b\", label=\"R-Dist\")\n",
    "plt.plot(pctiles, pctiles, \"g-.\", label=\"45 Degree\")\n",
    "plt.xlabel(\"Percentile of net worth\")\n",
    "plt.ylabel(\"Cumulative share of wealth\")\n",
    "plt.legend(loc=2)\n",
    "plt.ylim([0, 1])\n",
    "plt.show(\"wealth_distribution_2\")"
   ]
  },
  {
   "cell_type": "markdown",
   "metadata": {},
   "source": [
    "## Life-cycle version of the model\n",
    "\n",
    "We are interested in comparing the estimated distribution of the rate of return across households to measurements of its empirical counterpart. To be sure that the two objects of interest are comparable, we reestimate the life-cycle version of the model. It should be the case that a wider distribution of return is needed to match the empirical wealth targets, since wealth cannot grow without bounds under the assumption of a finite lifetime for households.\n",
    "\n",
    "### $\\Rfree$-point model"
   ]
  },
  {
   "cell_type": "code",
   "execution_count": null,
   "metadata": {},
   "outputs": [],
   "source": [
    "do_param_dist = False  \n",
    "do_lifecycle = True  \n",
    "do_agg_shocks = False  \n",
    "do_liquid = False  \n",
    "do_tractable = True  "
   ]
  },
  {
   "cell_type": "code",
   "execution_count": null,
   "metadata": {},
   "outputs": [],
   "source": [
    "options = {\n",
    "    \"param_name\": param_name,\n",
    "    \"dist_type\": dist_type,\n",
    "    \"run_estimation\": run_estimation,\n",
    "    \"run_sensitivity\": run_sensitivity,\n",
    "    \"find_beta_vs_KY\": find_beta_vs_KY,\n",
    "    \"do_tractable\": do_tractable,\n",
    "    \"do_param_dist\": do_param_dist,\n",
    "    \"do_lifecycle\": do_lifecycle,\n",
    "    \"do_agg_shocks\": do_agg_shocks,\n",
    "    \"do_liquid\": do_liquid,\n",
    "    \"do_combo_estimation\": True,\n",
    "}\n",
    "\n",
    "\n",
    "EstimationEconomy = estimate(options, parameters)"
   ]
  },
  {
   "cell_type": "code",
   "execution_count": null,
   "metadata": {},
   "outputs": [],
   "source": [
    "# Construct the Lorenz curves and plot them\n",
    "\n",
    "pctiles = np.linspace(0.001, 0.999, 15)\n",
    "SCF_Lorenz_points = get_lorenz_shares(\n",
    "    SCF_wealth, weights=SCF_weights, percentiles=pctiles\n",
    ")\n",
    "\n",
    "sim_wealth = EstimationEconomy.reap_state[\"aLvl\"][0]\n",
    "sim_Lorenz_points = get_lorenz_shares(sim_wealth, percentiles=pctiles)\n",
    "\n",
    "# Plot\n",
    "plt.figure(figsize=(5, 5))\n",
    "plt.title(\"Wealth Distribution\")\n",
    "plt.plot(pctiles, SCF_Lorenz_points, \"--k\", label=\"SCF\")\n",
    "plt.plot(pctiles, sim_Lorenz_points, \"-b\", label=\"R-Point-LC\")\n",
    "plt.plot(pctiles, pctiles, \"g-.\", label=\"45 Degree\")\n",
    "plt.xlabel(\"Percentile of net worth\")\n",
    "plt.ylabel(\"Cumulative share of wealth\")\n",
    "plt.legend(loc=2)\n",
    "plt.ylim([0, 1])\n",
    "plt.show(\"wealth_distribution_3\")\n"
   ]
  },
  {
   "cell_type": "markdown",
   "metadata": {},
   "source": [
    "### $\\Rfree$-dist model"
   ]
  },
  {
   "cell_type": "code",
   "execution_count": null,
   "metadata": {},
   "outputs": [],
   "source": [
    "do_param_dist = True  \n",
    "do_lifecycle = True  \n",
    "do_agg_shocks = False  \n",
    "do_liquid = False  \n",
    "do_tractable = False  "
   ]
  },
  {
   "cell_type": "code",
   "execution_count": null,
   "metadata": {},
   "outputs": [],
   "source": [
    "options = {\n",
    "    \"param_name\": param_name,\n",
    "    \"dist_type\": dist_type,\n",
    "    \"run_estimation\": run_estimation,\n",
    "    \"run_sensitivity\": run_sensitivity,\n",
    "    \"find_beta_vs_KY\": find_beta_vs_KY,\n",
    "    \"do_tractable\": do_tractable,\n",
    "    \"do_param_dist\": do_param_dist,\n",
    "    \"do_lifecycle\": do_lifecycle,\n",
    "    \"do_agg_shocks\": do_agg_shocks,\n",
    "    \"do_liquid\": do_liquid,\n",
    "    \"do_combo_estimation\": True,\n",
    "}\n",
    "\n",
    "\n",
    "EstimationEconomy = estimate(options, parameters)"
   ]
  },
  {
   "cell_type": "code",
   "execution_count": null,
   "metadata": {},
   "outputs": [],
   "source": [
    "# Plot\n",
    "pctiles = np.linspace(0.001, 0.999, 15)\n",
    "SCF_Lorenz_points = get_lorenz_shares(\n",
    "    SCF_wealth, weights=SCF_weights, percentiles=pctiles\n",
    ")\n",
    "\n",
    "#sim_wealth = np.asarray(EstimationEconomy.reap_state[\"aLvl\"]).flatten()\n",
    "sim_wealth_4 = np.concatenate(EstimationEconomy.reap_state[\"aLvl\"])\n",
    "print(np.asarray(EstimationEconomy.reap_state[\"aLvl\"]).shape)\n",
    "print(sim_wealth_4.shape)\n",
    "sim_Lorenz_points_4 = get_lorenz_shares(sim_wealth_4, percentiles=pctiles)\n",
    "\n",
    "plt.figure(figsize=(5, 5))\n",
    "plt.title(\"Wealth Distribution\")\n",
    "plt.plot(pctiles, SCF_Lorenz_points, \"--k\", label=\"SCF\")\n",
    "plt.plot(pctiles, sim_Lorenz_points_4, \"-b\", label=\"R-Dist-LC\")\n",
    "plt.plot(pctiles, pctiles, \"g-.\", label=\"45 Degree\")\n",
    "plt.xlabel(\"Percentile of net worth\")\n",
    "plt.ylabel(\"Cumulative share of wealth\")\n",
    "plt.legend(loc=2)\n",
    "plt.ylim([0, 1])\n",
    "plt.show(\"wealth_distribution_4\")"
   ]
  },
  {
   "cell_type": "markdown",
   "metadata": {},
   "source": []
  }
 ],
 "metadata": {
  "jupytext": {
   "formats": "ipynb,py:percent"
  },
  "kernelspec": {
   "display_name": "Python 3 (ipykernel)",
   "language": "python",
   "name": "python3"
  },
  "language_info": {
   "codemirror_mode": {
    "name": "ipython",
    "version": 3
   },
   "file_extension": ".py",
   "mimetype": "text/x-python",
   "name": "python",
   "nbconvert_exporter": "python",
   "pygments_lexer": "ipython3",
   "version": "3.9.16"
  },
  "latex_envs": {
   "LaTeX_envs_menu_present": true,
   "autoclose": false,
   "autocomplete": false,
   "bibliofile": "biblio.bib",
   "cite_by": "apalike",
   "current_citInitial": 1,
   "eqLabelWithNumbers": true,
   "eqNumInitial": 1,
   "hotkeys": {
    "equation": "Ctrl-E",
    "itemize": "Ctrl-I"
   },
   "labels_anchors": false,
   "latex_user_defs": false,
   "report_style_numbering": false,
   "user_envs_cfg": false
  },
  "toc": {
   "base_numbering": 1,
   "nav_menu": {},
   "number_sections": true,
   "sideBar": true,
   "skip_h1_title": false,
   "title_cell": "Table of Contents",
   "title_sidebar": "Contents",
   "toc_cell": false,
   "toc_position": {
    "height": "calc(100% - 180px)",
    "left": "10px",
    "top": "150px",
    "width": "164.994px"
   },
   "toc_section_display": true,
   "toc_window_display": true
  },
  "vscode": {
   "interpreter": {
    "hash": "79df5fddd1bf7837182dc0288ea2fd71cfa8aa9192614ea42e8f71958b4b5b41"
   }
  }
 },
 "nbformat": 4,
 "nbformat_minor": 4
}
